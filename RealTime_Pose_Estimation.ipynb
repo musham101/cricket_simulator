{
 "cells": [
  {
   "cell_type": "code",
   "execution_count": 1,
   "id": "866cddd5",
   "metadata": {},
   "outputs": [],
   "source": [
    "import cv2\n",
    "import mediapipe as mp"
   ]
  },
  {
   "cell_type": "code",
   "execution_count": 2,
   "id": "630eee2a",
   "metadata": {},
   "outputs": [],
   "source": [
    "# initalise pose estimator\n",
    "mp_draw = mp.solutions.drawing_utils # use to draw skeleton on body\n",
    "mp_pose = mp.solutions.pose # human pose \n",
    "pose = mp_pose.Pose(min_detection_confidence=0.5, min_tracking_confidence=0.5) # constructor"
   ]
  },
  {
   "cell_type": "code",
   "execution_count": 3,
   "id": "97e3d088",
   "metadata": {},
   "outputs": [],
   "source": [
    "cap = cv2.VideoCapture(0)\n",
    "while cap.isOpened():\n",
    "    # read frame\n",
    "    _, frame = cap.read()\n",
    "    try:\n",
    "        # resize the frame for portrait video\n",
    "        #frame = cv2.resize(frame, (350, 600))\n",
    "        # convert to RGB\n",
    "        frame_rgb = cv2.cvtColor(frame, cv2.COLOR_BGR2RGB)\n",
    "        \n",
    "        # process the frame for pose detection\n",
    "        pose_results = pose.process(frame_rgb)\n",
    "        # print(pose_results.pose_landmarks)\n",
    "        \n",
    "        # draw skeleton on the frame\n",
    "        mp_draw.draw_landmarks(frame, pose_results.pose_landmarks, mp_pose.POSE_CONNECTIONS)\n",
    "        # display the frame\n",
    "        cv2.imshow('Output', frame)\n",
    "    except:\n",
    "        break\n",
    "        \n",
    "    if cv2.waitKey(1) == ord('q'):\n",
    "        break\n",
    "\n",
    "cap.release()\n",
    "cv2.destroyAllWindows()"
   ]
  },
  {
   "cell_type": "code",
   "execution_count": 7,
   "id": "1e62f215",
   "metadata": {},
   "outputs": [
    {
     "data": {
      "text/plain": [
       "x: 0.49960580468177795\n",
       "y: 2.9637115001678467\n",
       "z: 0.22127196192741394\n",
       "visibility: 0.017278671264648438"
      ]
     },
     "execution_count": 7,
     "metadata": {},
     "output_type": "execute_result"
    }
   ],
   "source": [
    "pose_results.pose_landmarks.landmark[30]"
   ]
  },
  {
   "cell_type": "code",
   "execution_count": null,
   "id": "9c09d985",
   "metadata": {},
   "outputs": [],
   "source": []
  },
  {
   "cell_type": "code",
   "execution_count": null,
   "id": "70f9a0e8",
   "metadata": {},
   "outputs": [],
   "source": []
  }
 ],
 "metadata": {
  "kernelspec": {
   "display_name": "Python 3 (ipykernel)",
   "language": "python",
   "name": "python3"
  },
  "language_info": {
   "codemirror_mode": {
    "name": "ipython",
    "version": 3
   },
   "file_extension": ".py",
   "mimetype": "text/x-python",
   "name": "python",
   "nbconvert_exporter": "python",
   "pygments_lexer": "ipython3",
   "version": "3.9.7"
  }
 },
 "nbformat": 4,
 "nbformat_minor": 5
}
