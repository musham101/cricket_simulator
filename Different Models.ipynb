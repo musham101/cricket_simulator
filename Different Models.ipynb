{
 "cells": [
  {
   "cell_type": "code",
   "execution_count": 1,
   "id": "7b00d8b1",
   "metadata": {},
   "outputs": [],
   "source": [
    "import pandas as pd\n",
    "from sklearn.model_selection import train_test_split\n",
    "from sklearn.linear_model import LogisticRegression\n",
    "from sklearn.metrics import accuracy_score"
   ]
  },
  {
   "cell_type": "code",
   "execution_count": 116,
   "id": "912a68e3",
   "metadata": {},
   "outputs": [],
   "source": [
    "# Load the dataset\n",
    "data = pd.read_csv(\"dataset.csv\")"
   ]
  },
  {
   "cell_type": "code",
   "execution_count": 117,
   "id": "e97a3e5d",
   "metadata": {},
   "outputs": [
    {
     "data": {
      "text/html": [
       "<div>\n",
       "<style scoped>\n",
       "    .dataframe tbody tr th:only-of-type {\n",
       "        vertical-align: middle;\n",
       "    }\n",
       "\n",
       "    .dataframe tbody tr th {\n",
       "        vertical-align: top;\n",
       "    }\n",
       "\n",
       "    .dataframe thead th {\n",
       "        text-align: right;\n",
       "    }\n",
       "</style>\n",
       "<table border=\"1\" class=\"dataframe\">\n",
       "  <thead>\n",
       "    <tr style=\"text-align: right;\">\n",
       "      <th></th>\n",
       "      <th>Shot Name</th>\n",
       "      <th>Right Shoulder (x)</th>\n",
       "      <th>Right Shoulder (y)</th>\n",
       "      <th>Right Shoulder (z)</th>\n",
       "      <th>Left Shoulder (x)</th>\n",
       "      <th>Left Shoulder (y)</th>\n",
       "      <th>Left Shoulder (z)</th>\n",
       "      <th>Right Elbow (x)</th>\n",
       "      <th>Right Elbow (y)</th>\n",
       "      <th>Right Elbow (z)</th>\n",
       "      <th>...</th>\n",
       "      <th>Right Knee (z)</th>\n",
       "      <th>Left Knee (x)</th>\n",
       "      <th>Left Knee (y)</th>\n",
       "      <th>Left Knee (z)</th>\n",
       "      <th>Right Ankle (x)</th>\n",
       "      <th>Right Ankle (y)</th>\n",
       "      <th>Right Ankle (z)</th>\n",
       "      <th>Left Ankle (x)</th>\n",
       "      <th>Left Ankle (y)</th>\n",
       "      <th>Left Ankle (z)</th>\n",
       "    </tr>\n",
       "  </thead>\n",
       "  <tbody>\n",
       "    <tr>\n",
       "      <th>0</th>\n",
       "      <td>PullShot</td>\n",
       "      <td>0.465310</td>\n",
       "      <td>0.269960</td>\n",
       "      <td>0.172628</td>\n",
       "      <td>0.547472</td>\n",
       "      <td>0.254167</td>\n",
       "      <td>-0.055340</td>\n",
       "      <td>0.471516</td>\n",
       "      <td>0.329746</td>\n",
       "      <td>0.002717</td>\n",
       "      <td>...</td>\n",
       "      <td>0.040193</td>\n",
       "      <td>0.415400</td>\n",
       "      <td>0.684185</td>\n",
       "      <td>-0.134640</td>\n",
       "      <td>0.572050</td>\n",
       "      <td>0.868060</td>\n",
       "      <td>0.174761</td>\n",
       "      <td>0.351442</td>\n",
       "      <td>0.895315</td>\n",
       "      <td>-0.152276</td>\n",
       "    </tr>\n",
       "    <tr>\n",
       "      <th>1</th>\n",
       "      <td>PullShot</td>\n",
       "      <td>0.439750</td>\n",
       "      <td>0.260434</td>\n",
       "      <td>-0.051655</td>\n",
       "      <td>0.523411</td>\n",
       "      <td>0.275674</td>\n",
       "      <td>0.211819</td>\n",
       "      <td>0.406348</td>\n",
       "      <td>0.374402</td>\n",
       "      <td>-0.246784</td>\n",
       "      <td>...</td>\n",
       "      <td>-0.199845</td>\n",
       "      <td>0.525269</td>\n",
       "      <td>0.725391</td>\n",
       "      <td>0.037631</td>\n",
       "      <td>0.646897</td>\n",
       "      <td>0.884594</td>\n",
       "      <td>-0.244248</td>\n",
       "      <td>0.426373</td>\n",
       "      <td>0.857044</td>\n",
       "      <td>0.069269</td>\n",
       "    </tr>\n",
       "    <tr>\n",
       "      <th>2</th>\n",
       "      <td>PullShot</td>\n",
       "      <td>0.439966</td>\n",
       "      <td>0.264511</td>\n",
       "      <td>0.206872</td>\n",
       "      <td>0.503322</td>\n",
       "      <td>0.233798</td>\n",
       "      <td>-0.074470</td>\n",
       "      <td>0.411702</td>\n",
       "      <td>0.337425</td>\n",
       "      <td>0.040058</td>\n",
       "      <td>...</td>\n",
       "      <td>0.030399</td>\n",
       "      <td>0.449096</td>\n",
       "      <td>0.704329</td>\n",
       "      <td>-0.101243</td>\n",
       "      <td>0.635075</td>\n",
       "      <td>0.823422</td>\n",
       "      <td>0.097667</td>\n",
       "      <td>0.427999</td>\n",
       "      <td>0.926872</td>\n",
       "      <td>-0.109337</td>\n",
       "    </tr>\n",
       "    <tr>\n",
       "      <th>3</th>\n",
       "      <td>PullShot</td>\n",
       "      <td>0.447104</td>\n",
       "      <td>0.258514</td>\n",
       "      <td>-0.061657</td>\n",
       "      <td>0.514965</td>\n",
       "      <td>0.280504</td>\n",
       "      <td>0.233133</td>\n",
       "      <td>0.407898</td>\n",
       "      <td>0.372371</td>\n",
       "      <td>-0.210541</td>\n",
       "      <td>...</td>\n",
       "      <td>-0.167241</td>\n",
       "      <td>0.514899</td>\n",
       "      <td>0.730260</td>\n",
       "      <td>0.021074</td>\n",
       "      <td>0.647763</td>\n",
       "      <td>0.886656</td>\n",
       "      <td>-0.203697</td>\n",
       "      <td>0.424877</td>\n",
       "      <td>0.858575</td>\n",
       "      <td>-0.008327</td>\n",
       "    </tr>\n",
       "    <tr>\n",
       "      <th>4</th>\n",
       "      <td>PullShot</td>\n",
       "      <td>0.641250</td>\n",
       "      <td>0.345659</td>\n",
       "      <td>-0.048634</td>\n",
       "      <td>0.655779</td>\n",
       "      <td>0.440376</td>\n",
       "      <td>0.274575</td>\n",
       "      <td>0.551394</td>\n",
       "      <td>0.330605</td>\n",
       "      <td>-0.272942</td>\n",
       "      <td>...</td>\n",
       "      <td>-0.181323</td>\n",
       "      <td>0.371499</td>\n",
       "      <td>0.610556</td>\n",
       "      <td>0.032348</td>\n",
       "      <td>0.302837</td>\n",
       "      <td>0.830773</td>\n",
       "      <td>-0.243892</td>\n",
       "      <td>0.235468</td>\n",
       "      <td>0.532796</td>\n",
       "      <td>0.040307</td>\n",
       "    </tr>\n",
       "    <tr>\n",
       "      <th>5</th>\n",
       "      <td>PullShot</td>\n",
       "      <td>0.477980</td>\n",
       "      <td>0.273125</td>\n",
       "      <td>0.235729</td>\n",
       "      <td>0.551035</td>\n",
       "      <td>0.252401</td>\n",
       "      <td>-0.055334</td>\n",
       "      <td>0.459954</td>\n",
       "      <td>0.357784</td>\n",
       "      <td>0.084492</td>\n",
       "      <td>...</td>\n",
       "      <td>-0.006065</td>\n",
       "      <td>0.415366</td>\n",
       "      <td>0.675538</td>\n",
       "      <td>-0.140963</td>\n",
       "      <td>0.572730</td>\n",
       "      <td>0.861023</td>\n",
       "      <td>-0.003989</td>\n",
       "      <td>0.352073</td>\n",
       "      <td>0.888404</td>\n",
       "      <td>-0.173511</td>\n",
       "    </tr>\n",
       "    <tr>\n",
       "      <th>6</th>\n",
       "      <td>PullShot</td>\n",
       "      <td>0.432667</td>\n",
       "      <td>0.272029</td>\n",
       "      <td>-0.068063</td>\n",
       "      <td>0.496689</td>\n",
       "      <td>0.271336</td>\n",
       "      <td>0.208933</td>\n",
       "      <td>0.409019</td>\n",
       "      <td>0.380440</td>\n",
       "      <td>-0.259239</td>\n",
       "      <td>...</td>\n",
       "      <td>-0.213245</td>\n",
       "      <td>0.525353</td>\n",
       "      <td>0.700126</td>\n",
       "      <td>0.023289</td>\n",
       "      <td>0.647919</td>\n",
       "      <td>0.880045</td>\n",
       "      <td>-0.244471</td>\n",
       "      <td>0.429478</td>\n",
       "      <td>0.858538</td>\n",
       "      <td>0.037155</td>\n",
       "    </tr>\n",
       "    <tr>\n",
       "      <th>7</th>\n",
       "      <td>PullShot</td>\n",
       "      <td>0.365954</td>\n",
       "      <td>0.215423</td>\n",
       "      <td>-0.101410</td>\n",
       "      <td>0.458027</td>\n",
       "      <td>0.231298</td>\n",
       "      <td>0.079349</td>\n",
       "      <td>0.285014</td>\n",
       "      <td>0.244215</td>\n",
       "      <td>-0.365080</td>\n",
       "      <td>...</td>\n",
       "      <td>-0.236919</td>\n",
       "      <td>0.407860</td>\n",
       "      <td>0.664504</td>\n",
       "      <td>0.067303</td>\n",
       "      <td>0.529943</td>\n",
       "      <td>0.830128</td>\n",
       "      <td>-0.267624</td>\n",
       "      <td>0.303087</td>\n",
       "      <td>0.804929</td>\n",
       "      <td>0.129123</td>\n",
       "    </tr>\n",
       "    <tr>\n",
       "      <th>8</th>\n",
       "      <td>PullShot</td>\n",
       "      <td>0.273545</td>\n",
       "      <td>0.345318</td>\n",
       "      <td>-0.138228</td>\n",
       "      <td>0.364521</td>\n",
       "      <td>0.306815</td>\n",
       "      <td>0.032930</td>\n",
       "      <td>0.219260</td>\n",
       "      <td>0.437981</td>\n",
       "      <td>-0.347255</td>\n",
       "      <td>...</td>\n",
       "      <td>-0.183363</td>\n",
       "      <td>0.495720</td>\n",
       "      <td>0.696123</td>\n",
       "      <td>0.052919</td>\n",
       "      <td>0.655007</td>\n",
       "      <td>0.758317</td>\n",
       "      <td>-0.189554</td>\n",
       "      <td>0.451505</td>\n",
       "      <td>0.895515</td>\n",
       "      <td>0.041134</td>\n",
       "    </tr>\n",
       "    <tr>\n",
       "      <th>9</th>\n",
       "      <td>PullShot</td>\n",
       "      <td>0.426346</td>\n",
       "      <td>0.173166</td>\n",
       "      <td>-0.137313</td>\n",
       "      <td>0.519522</td>\n",
       "      <td>0.229941</td>\n",
       "      <td>0.045394</td>\n",
       "      <td>0.342000</td>\n",
       "      <td>0.169786</td>\n",
       "      <td>-0.408688</td>\n",
       "      <td>...</td>\n",
       "      <td>-0.232234</td>\n",
       "      <td>0.385038</td>\n",
       "      <td>0.623565</td>\n",
       "      <td>0.058100</td>\n",
       "      <td>0.467416</td>\n",
       "      <td>0.830199</td>\n",
       "      <td>-0.256000</td>\n",
       "      <td>0.253674</td>\n",
       "      <td>0.719395</td>\n",
       "      <td>0.111866</td>\n",
       "    </tr>\n",
       "  </tbody>\n",
       "</table>\n",
       "<p>10 rows × 31 columns</p>\n",
       "</div>"
      ],
      "text/plain": [
       "  Shot Name  Right Shoulder (x)  Right Shoulder (y)  Right Shoulder (z)  \\\n",
       "0  PullShot            0.465310            0.269960            0.172628   \n",
       "1  PullShot            0.439750            0.260434           -0.051655   \n",
       "2  PullShot            0.439966            0.264511            0.206872   \n",
       "3  PullShot            0.447104            0.258514           -0.061657   \n",
       "4  PullShot            0.641250            0.345659           -0.048634   \n",
       "5  PullShot            0.477980            0.273125            0.235729   \n",
       "6  PullShot            0.432667            0.272029           -0.068063   \n",
       "7  PullShot            0.365954            0.215423           -0.101410   \n",
       "8  PullShot            0.273545            0.345318           -0.138228   \n",
       "9  PullShot            0.426346            0.173166           -0.137313   \n",
       "\n",
       "   Left Shoulder (x)  Left Shoulder (y)  Left Shoulder (z)  Right Elbow (x)  \\\n",
       "0           0.547472           0.254167          -0.055340         0.471516   \n",
       "1           0.523411           0.275674           0.211819         0.406348   \n",
       "2           0.503322           0.233798          -0.074470         0.411702   \n",
       "3           0.514965           0.280504           0.233133         0.407898   \n",
       "4           0.655779           0.440376           0.274575         0.551394   \n",
       "5           0.551035           0.252401          -0.055334         0.459954   \n",
       "6           0.496689           0.271336           0.208933         0.409019   \n",
       "7           0.458027           0.231298           0.079349         0.285014   \n",
       "8           0.364521           0.306815           0.032930         0.219260   \n",
       "9           0.519522           0.229941           0.045394         0.342000   \n",
       "\n",
       "   Right Elbow (y)  Right Elbow (z)  ...  Right Knee (z)  Left Knee (x)  \\\n",
       "0         0.329746         0.002717  ...        0.040193       0.415400   \n",
       "1         0.374402        -0.246784  ...       -0.199845       0.525269   \n",
       "2         0.337425         0.040058  ...        0.030399       0.449096   \n",
       "3         0.372371        -0.210541  ...       -0.167241       0.514899   \n",
       "4         0.330605        -0.272942  ...       -0.181323       0.371499   \n",
       "5         0.357784         0.084492  ...       -0.006065       0.415366   \n",
       "6         0.380440        -0.259239  ...       -0.213245       0.525353   \n",
       "7         0.244215        -0.365080  ...       -0.236919       0.407860   \n",
       "8         0.437981        -0.347255  ...       -0.183363       0.495720   \n",
       "9         0.169786        -0.408688  ...       -0.232234       0.385038   \n",
       "\n",
       "   Left Knee (y)  Left Knee (z)  Right Ankle (x)  Right Ankle (y)  \\\n",
       "0       0.684185      -0.134640         0.572050         0.868060   \n",
       "1       0.725391       0.037631         0.646897         0.884594   \n",
       "2       0.704329      -0.101243         0.635075         0.823422   \n",
       "3       0.730260       0.021074         0.647763         0.886656   \n",
       "4       0.610556       0.032348         0.302837         0.830773   \n",
       "5       0.675538      -0.140963         0.572730         0.861023   \n",
       "6       0.700126       0.023289         0.647919         0.880045   \n",
       "7       0.664504       0.067303         0.529943         0.830128   \n",
       "8       0.696123       0.052919         0.655007         0.758317   \n",
       "9       0.623565       0.058100         0.467416         0.830199   \n",
       "\n",
       "   Right Ankle (z)  Left Ankle (x)  Left Ankle (y)  Left Ankle (z)  \n",
       "0         0.174761        0.351442        0.895315       -0.152276  \n",
       "1        -0.244248        0.426373        0.857044        0.069269  \n",
       "2         0.097667        0.427999        0.926872       -0.109337  \n",
       "3        -0.203697        0.424877        0.858575       -0.008327  \n",
       "4        -0.243892        0.235468        0.532796        0.040307  \n",
       "5        -0.003989        0.352073        0.888404       -0.173511  \n",
       "6        -0.244471        0.429478        0.858538        0.037155  \n",
       "7        -0.267624        0.303087        0.804929        0.129123  \n",
       "8        -0.189554        0.451505        0.895515        0.041134  \n",
       "9        -0.256000        0.253674        0.719395        0.111866  \n",
       "\n",
       "[10 rows x 31 columns]"
      ]
     },
     "execution_count": 117,
     "metadata": {},
     "output_type": "execute_result"
    }
   ],
   "source": [
    "data.head(10)"
   ]
  },
  {
   "cell_type": "code",
   "execution_count": 118,
   "id": "bf90308e",
   "metadata": {},
   "outputs": [
    {
     "name": "stdout",
     "output_type": "stream",
     "text": [
      "Number of Columns: 31\n",
      "Number of Rows: 187\n"
     ]
    }
   ],
   "source": [
    "print(\"Number of Columns: \" + str(len(data.count())))\n",
    "print(\"Number of Rows: \" + str(len(data)))"
   ]
  },
  {
   "cell_type": "code",
   "execution_count": 119,
   "id": "5aea12e3",
   "metadata": {},
   "outputs": [],
   "source": [
    "# Randomizing the dataset\n",
    "data = data.sample(frac=1).reset_index()"
   ]
  },
  {
   "cell_type": "code",
   "execution_count": 120,
   "id": "6d8dfba5",
   "metadata": {},
   "outputs": [
    {
     "data": {
      "text/html": [
       "<div>\n",
       "<style scoped>\n",
       "    .dataframe tbody tr th:only-of-type {\n",
       "        vertical-align: middle;\n",
       "    }\n",
       "\n",
       "    .dataframe tbody tr th {\n",
       "        vertical-align: top;\n",
       "    }\n",
       "\n",
       "    .dataframe thead th {\n",
       "        text-align: right;\n",
       "    }\n",
       "</style>\n",
       "<table border=\"1\" class=\"dataframe\">\n",
       "  <thead>\n",
       "    <tr style=\"text-align: right;\">\n",
       "      <th></th>\n",
       "      <th>index</th>\n",
       "      <th>Shot Name</th>\n",
       "      <th>Right Shoulder (x)</th>\n",
       "      <th>Right Shoulder (y)</th>\n",
       "      <th>Right Shoulder (z)</th>\n",
       "      <th>Left Shoulder (x)</th>\n",
       "      <th>Left Shoulder (y)</th>\n",
       "      <th>Left Shoulder (z)</th>\n",
       "      <th>Right Elbow (x)</th>\n",
       "      <th>Right Elbow (y)</th>\n",
       "      <th>...</th>\n",
       "      <th>Right Knee (z)</th>\n",
       "      <th>Left Knee (x)</th>\n",
       "      <th>Left Knee (y)</th>\n",
       "      <th>Left Knee (z)</th>\n",
       "      <th>Right Ankle (x)</th>\n",
       "      <th>Right Ankle (y)</th>\n",
       "      <th>Right Ankle (z)</th>\n",
       "      <th>Left Ankle (x)</th>\n",
       "      <th>Left Ankle (y)</th>\n",
       "      <th>Left Ankle (z)</th>\n",
       "    </tr>\n",
       "  </thead>\n",
       "  <tbody>\n",
       "    <tr>\n",
       "      <th>0</th>\n",
       "      <td>23</td>\n",
       "      <td>PullShot</td>\n",
       "      <td>0.260512</td>\n",
       "      <td>0.428775</td>\n",
       "      <td>0.049558</td>\n",
       "      <td>0.336991</td>\n",
       "      <td>0.348047</td>\n",
       "      <td>0.201364</td>\n",
       "      <td>0.224809</td>\n",
       "      <td>0.499583</td>\n",
       "      <td>...</td>\n",
       "      <td>-0.203891</td>\n",
       "      <td>0.528343</td>\n",
       "      <td>0.683233</td>\n",
       "      <td>0.029652</td>\n",
       "      <td>0.685105</td>\n",
       "      <td>0.708919</td>\n",
       "      <td>-0.264852</td>\n",
       "      <td>0.520300</td>\n",
       "      <td>0.904734</td>\n",
       "      <td>-0.011007</td>\n",
       "    </tr>\n",
       "    <tr>\n",
       "      <th>1</th>\n",
       "      <td>38</td>\n",
       "      <td>PullShot</td>\n",
       "      <td>0.451825</td>\n",
       "      <td>0.179209</td>\n",
       "      <td>0.068746</td>\n",
       "      <td>0.553969</td>\n",
       "      <td>0.304916</td>\n",
       "      <td>0.167794</td>\n",
       "      <td>0.411580</td>\n",
       "      <td>0.232664</td>\n",
       "      <td>...</td>\n",
       "      <td>-0.326800</td>\n",
       "      <td>0.500713</td>\n",
       "      <td>0.629423</td>\n",
       "      <td>-0.253809</td>\n",
       "      <td>0.465699</td>\n",
       "      <td>0.891179</td>\n",
       "      <td>-0.355007</td>\n",
       "      <td>0.432035</td>\n",
       "      <td>0.854642</td>\n",
       "      <td>-0.220062</td>\n",
       "    </tr>\n",
       "    <tr>\n",
       "      <th>2</th>\n",
       "      <td>68</td>\n",
       "      <td>Legglance-Flick Shot</td>\n",
       "      <td>0.596433</td>\n",
       "      <td>0.251635</td>\n",
       "      <td>-0.064160</td>\n",
       "      <td>0.691343</td>\n",
       "      <td>0.319542</td>\n",
       "      <td>0.141576</td>\n",
       "      <td>0.593310</td>\n",
       "      <td>0.390341</td>\n",
       "      <td>...</td>\n",
       "      <td>-0.176349</td>\n",
       "      <td>0.406767</td>\n",
       "      <td>0.735476</td>\n",
       "      <td>0.032672</td>\n",
       "      <td>0.593150</td>\n",
       "      <td>0.918754</td>\n",
       "      <td>-0.203447</td>\n",
       "      <td>0.247425</td>\n",
       "      <td>0.848373</td>\n",
       "      <td>-0.008754</td>\n",
       "    </tr>\n",
       "    <tr>\n",
       "      <th>3</th>\n",
       "      <td>158</td>\n",
       "      <td>Drive Shot</td>\n",
       "      <td>0.441646</td>\n",
       "      <td>0.246303</td>\n",
       "      <td>-0.088335</td>\n",
       "      <td>0.579031</td>\n",
       "      <td>0.256939</td>\n",
       "      <td>0.017047</td>\n",
       "      <td>0.532633</td>\n",
       "      <td>0.255148</td>\n",
       "      <td>...</td>\n",
       "      <td>-0.278634</td>\n",
       "      <td>0.632831</td>\n",
       "      <td>0.664371</td>\n",
       "      <td>-0.458129</td>\n",
       "      <td>0.131021</td>\n",
       "      <td>0.881194</td>\n",
       "      <td>-0.326119</td>\n",
       "      <td>0.492671</td>\n",
       "      <td>0.877429</td>\n",
       "      <td>-0.343554</td>\n",
       "    </tr>\n",
       "    <tr>\n",
       "      <th>4</th>\n",
       "      <td>81</td>\n",
       "      <td>Legglance-Flick Shot</td>\n",
       "      <td>0.526518</td>\n",
       "      <td>0.329742</td>\n",
       "      <td>-0.006875</td>\n",
       "      <td>0.509939</td>\n",
       "      <td>0.373413</td>\n",
       "      <td>0.497503</td>\n",
       "      <td>0.635570</td>\n",
       "      <td>0.380730</td>\n",
       "      <td>...</td>\n",
       "      <td>-0.209719</td>\n",
       "      <td>0.485178</td>\n",
       "      <td>0.694927</td>\n",
       "      <td>0.057026</td>\n",
       "      <td>0.488616</td>\n",
       "      <td>0.854015</td>\n",
       "      <td>-0.311703</td>\n",
       "      <td>0.368791</td>\n",
       "      <td>0.788854</td>\n",
       "      <td>-0.004635</td>\n",
       "    </tr>\n",
       "    <tr>\n",
       "      <th>5</th>\n",
       "      <td>10</td>\n",
       "      <td>PullShot</td>\n",
       "      <td>0.533797</td>\n",
       "      <td>0.225840</td>\n",
       "      <td>0.085929</td>\n",
       "      <td>0.629192</td>\n",
       "      <td>0.215946</td>\n",
       "      <td>-0.059348</td>\n",
       "      <td>0.535479</td>\n",
       "      <td>0.253506</td>\n",
       "      <td>...</td>\n",
       "      <td>0.039479</td>\n",
       "      <td>0.499040</td>\n",
       "      <td>0.642745</td>\n",
       "      <td>-0.199464</td>\n",
       "      <td>0.691005</td>\n",
       "      <td>0.799749</td>\n",
       "      <td>0.109389</td>\n",
       "      <td>0.456245</td>\n",
       "      <td>0.839785</td>\n",
       "      <td>-0.228291</td>\n",
       "    </tr>\n",
       "    <tr>\n",
       "      <th>6</th>\n",
       "      <td>56</td>\n",
       "      <td>Legglance-Flick Shot</td>\n",
       "      <td>0.193459</td>\n",
       "      <td>0.296437</td>\n",
       "      <td>-0.041985</td>\n",
       "      <td>0.287811</td>\n",
       "      <td>0.240992</td>\n",
       "      <td>-0.181129</td>\n",
       "      <td>0.235235</td>\n",
       "      <td>0.406746</td>\n",
       "      <td>...</td>\n",
       "      <td>-0.053528</td>\n",
       "      <td>0.379019</td>\n",
       "      <td>0.584275</td>\n",
       "      <td>-0.090647</td>\n",
       "      <td>0.349328</td>\n",
       "      <td>0.672625</td>\n",
       "      <td>0.188000</td>\n",
       "      <td>0.448008</td>\n",
       "      <td>0.735825</td>\n",
       "      <td>-0.003225</td>\n",
       "    </tr>\n",
       "    <tr>\n",
       "      <th>7</th>\n",
       "      <td>110</td>\n",
       "      <td>Sweep Shot</td>\n",
       "      <td>0.493810</td>\n",
       "      <td>0.240352</td>\n",
       "      <td>0.105328</td>\n",
       "      <td>0.619450</td>\n",
       "      <td>0.332596</td>\n",
       "      <td>0.241061</td>\n",
       "      <td>0.399247</td>\n",
       "      <td>0.291257</td>\n",
       "      <td>...</td>\n",
       "      <td>-0.252989</td>\n",
       "      <td>0.412944</td>\n",
       "      <td>0.898730</td>\n",
       "      <td>0.082169</td>\n",
       "      <td>0.758173</td>\n",
       "      <td>0.885304</td>\n",
       "      <td>-0.327199</td>\n",
       "      <td>0.228918</td>\n",
       "      <td>0.828367</td>\n",
       "      <td>0.220299</td>\n",
       "    </tr>\n",
       "    <tr>\n",
       "      <th>8</th>\n",
       "      <td>157</td>\n",
       "      <td>Drive Shot</td>\n",
       "      <td>0.221857</td>\n",
       "      <td>0.491339</td>\n",
       "      <td>-0.283164</td>\n",
       "      <td>0.237563</td>\n",
       "      <td>0.381548</td>\n",
       "      <td>-0.019886</td>\n",
       "      <td>0.296472</td>\n",
       "      <td>0.388647</td>\n",
       "      <td>...</td>\n",
       "      <td>-0.353608</td>\n",
       "      <td>0.710528</td>\n",
       "      <td>0.405614</td>\n",
       "      <td>-0.378886</td>\n",
       "      <td>0.808790</td>\n",
       "      <td>0.916840</td>\n",
       "      <td>-0.323760</td>\n",
       "      <td>0.906861</td>\n",
       "      <td>0.601362</td>\n",
       "      <td>-0.205167</td>\n",
       "    </tr>\n",
       "    <tr>\n",
       "      <th>9</th>\n",
       "      <td>37</td>\n",
       "      <td>PullShot</td>\n",
       "      <td>0.686669</td>\n",
       "      <td>0.349164</td>\n",
       "      <td>-0.003537</td>\n",
       "      <td>0.640580</td>\n",
       "      <td>0.514129</td>\n",
       "      <td>0.023258</td>\n",
       "      <td>0.651605</td>\n",
       "      <td>0.284137</td>\n",
       "      <td>...</td>\n",
       "      <td>-0.261772</td>\n",
       "      <td>0.409820</td>\n",
       "      <td>0.535750</td>\n",
       "      <td>-0.175249</td>\n",
       "      <td>0.240446</td>\n",
       "      <td>0.556622</td>\n",
       "      <td>-0.283188</td>\n",
       "      <td>0.257661</td>\n",
       "      <td>0.494891</td>\n",
       "      <td>-0.083570</td>\n",
       "    </tr>\n",
       "  </tbody>\n",
       "</table>\n",
       "<p>10 rows × 32 columns</p>\n",
       "</div>"
      ],
      "text/plain": [
       "   index             Shot Name  Right Shoulder (x)  Right Shoulder (y)  \\\n",
       "0     23              PullShot            0.260512            0.428775   \n",
       "1     38              PullShot            0.451825            0.179209   \n",
       "2     68  Legglance-Flick Shot            0.596433            0.251635   \n",
       "3    158            Drive Shot            0.441646            0.246303   \n",
       "4     81  Legglance-Flick Shot            0.526518            0.329742   \n",
       "5     10              PullShot            0.533797            0.225840   \n",
       "6     56  Legglance-Flick Shot            0.193459            0.296437   \n",
       "7    110            Sweep Shot            0.493810            0.240352   \n",
       "8    157            Drive Shot            0.221857            0.491339   \n",
       "9     37              PullShot            0.686669            0.349164   \n",
       "\n",
       "   Right Shoulder (z)  Left Shoulder (x)  Left Shoulder (y)  \\\n",
       "0            0.049558           0.336991           0.348047   \n",
       "1            0.068746           0.553969           0.304916   \n",
       "2           -0.064160           0.691343           0.319542   \n",
       "3           -0.088335           0.579031           0.256939   \n",
       "4           -0.006875           0.509939           0.373413   \n",
       "5            0.085929           0.629192           0.215946   \n",
       "6           -0.041985           0.287811           0.240992   \n",
       "7            0.105328           0.619450           0.332596   \n",
       "8           -0.283164           0.237563           0.381548   \n",
       "9           -0.003537           0.640580           0.514129   \n",
       "\n",
       "   Left Shoulder (z)  Right Elbow (x)  Right Elbow (y)  ...  Right Knee (z)  \\\n",
       "0           0.201364         0.224809         0.499583  ...       -0.203891   \n",
       "1           0.167794         0.411580         0.232664  ...       -0.326800   \n",
       "2           0.141576         0.593310         0.390341  ...       -0.176349   \n",
       "3           0.017047         0.532633         0.255148  ...       -0.278634   \n",
       "4           0.497503         0.635570         0.380730  ...       -0.209719   \n",
       "5          -0.059348         0.535479         0.253506  ...        0.039479   \n",
       "6          -0.181129         0.235235         0.406746  ...       -0.053528   \n",
       "7           0.241061         0.399247         0.291257  ...       -0.252989   \n",
       "8          -0.019886         0.296472         0.388647  ...       -0.353608   \n",
       "9           0.023258         0.651605         0.284137  ...       -0.261772   \n",
       "\n",
       "   Left Knee (x)  Left Knee (y)  Left Knee (z)  Right Ankle (x)  \\\n",
       "0       0.528343       0.683233       0.029652         0.685105   \n",
       "1       0.500713       0.629423      -0.253809         0.465699   \n",
       "2       0.406767       0.735476       0.032672         0.593150   \n",
       "3       0.632831       0.664371      -0.458129         0.131021   \n",
       "4       0.485178       0.694927       0.057026         0.488616   \n",
       "5       0.499040       0.642745      -0.199464         0.691005   \n",
       "6       0.379019       0.584275      -0.090647         0.349328   \n",
       "7       0.412944       0.898730       0.082169         0.758173   \n",
       "8       0.710528       0.405614      -0.378886         0.808790   \n",
       "9       0.409820       0.535750      -0.175249         0.240446   \n",
       "\n",
       "   Right Ankle (y)  Right Ankle (z)  Left Ankle (x)  Left Ankle (y)  \\\n",
       "0         0.708919        -0.264852        0.520300        0.904734   \n",
       "1         0.891179        -0.355007        0.432035        0.854642   \n",
       "2         0.918754        -0.203447        0.247425        0.848373   \n",
       "3         0.881194        -0.326119        0.492671        0.877429   \n",
       "4         0.854015        -0.311703        0.368791        0.788854   \n",
       "5         0.799749         0.109389        0.456245        0.839785   \n",
       "6         0.672625         0.188000        0.448008        0.735825   \n",
       "7         0.885304        -0.327199        0.228918        0.828367   \n",
       "8         0.916840        -0.323760        0.906861        0.601362   \n",
       "9         0.556622        -0.283188        0.257661        0.494891   \n",
       "\n",
       "   Left Ankle (z)  \n",
       "0       -0.011007  \n",
       "1       -0.220062  \n",
       "2       -0.008754  \n",
       "3       -0.343554  \n",
       "4       -0.004635  \n",
       "5       -0.228291  \n",
       "6       -0.003225  \n",
       "7        0.220299  \n",
       "8       -0.205167  \n",
       "9       -0.083570  \n",
       "\n",
       "[10 rows x 32 columns]"
      ]
     },
     "execution_count": 120,
     "metadata": {},
     "output_type": "execute_result"
    }
   ],
   "source": [
    "data.head(10)"
   ]
  },
  {
   "cell_type": "code",
   "execution_count": 121,
   "id": "a266fbf1",
   "metadata": {},
   "outputs": [],
   "source": [
    "data = data.drop(columns = {'index'})"
   ]
  },
  {
   "cell_type": "code",
   "execution_count": 122,
   "id": "8410d5a0",
   "metadata": {},
   "outputs": [
    {
     "data": {
      "text/plain": [
       "PullShot                50\n",
       "Legglance-Flick Shot    49\n",
       "Sweep Shot              49\n",
       "Drive Shot              39\n",
       "Name: Shot Name, dtype: int64"
      ]
     },
     "execution_count": 122,
     "metadata": {},
     "output_type": "execute_result"
    }
   ],
   "source": [
    "# Number of Rows for each Shot Name\n",
    "data[\"Shot Name\"].value_counts()"
   ]
  },
  {
   "cell_type": "code",
   "execution_count": 123,
   "id": "50b0323d",
   "metadata": {},
   "outputs": [],
   "source": [
    "# Split the data into features and labels\n",
    "X = data.drop(\"Shot Name\", axis=1)\n",
    "y = data[\"Shot Name\"]"
   ]
  },
  {
   "cell_type": "code",
   "execution_count": 124,
   "id": "3299badf",
   "metadata": {},
   "outputs": [],
   "source": [
    "# Split the data into training and testing sets\n",
    "X_train, X_test, y_train, y_test = train_test_split(X, y, test_size=0.2)"
   ]
  },
  {
   "cell_type": "markdown",
   "id": "6c8df8ad",
   "metadata": {},
   "source": [
    "# Using Logistic Regression"
   ]
  },
  {
   "cell_type": "code",
   "execution_count": 126,
   "id": "105507cc",
   "metadata": {},
   "outputs": [
    {
     "data": {
      "text/plain": [
       "LogisticRegression(multi_class='multinomial')"
      ]
     },
     "execution_count": 126,
     "metadata": {},
     "output_type": "execute_result"
    }
   ],
   "source": [
    "# Initialize and train the model\n",
    "model = LogisticRegression(multi_class='multinomial', solver='lbfgs') #['liblinear', 'newton-cg', 'lbfgs', 'sag', 'saga']\n",
    "model.fit(X_train, y_train)"
   ]
  },
  {
   "cell_type": "code",
   "execution_count": 127,
   "id": "ff5f73c3",
   "metadata": {},
   "outputs": [],
   "source": [
    "# Make predictions on the test set\n",
    "y_pred = model.predict(X_test)"
   ]
  },
  {
   "cell_type": "code",
   "execution_count": 128,
   "id": "133f5460",
   "metadata": {},
   "outputs": [
    {
     "name": "stdout",
     "output_type": "stream",
     "text": [
      "Accuracy: 0.5263157894736842\n"
     ]
    }
   ],
   "source": [
    "# Print the accuracy\n",
    "print(\"Accuracy:\", accuracy_score(y_test, y_pred))"
   ]
  },
  {
   "cell_type": "code",
   "execution_count": 129,
   "id": "b1c7f652",
   "metadata": {},
   "outputs": [
    {
     "data": {
      "image/png": "[encoded data removed]",
      "text/plain": [
       "<Figure size 432x288 with 2 Axes>"
      ]
     },
     "metadata": {
      "needs_background": "light"
     },
     "output_type": "display_data"
    }
   ],
   "source": [
    "from sklearn.metrics import confusion_matrix\n",
    "import seaborn as sns\n",
    "import matplotlib.pyplot as plt\n",
    "\n",
    "# Create a confusion matrix\n",
    "cm = confusion_matrix(y_test, y_pred)\n",
    "\n",
    "# Plot the confusion matrix using seaborn's heatmap function\n",
    "sns.heatmap(cm, annot=True, cmap='Blues', fmt='d')\n",
    "\n",
    "# Add labels and title\n",
    "plt.xlabel('Predicted')\n",
    "plt.ylabel('Actual')\n",
    "plt.title('Confusion Matrix')\n",
    "\n",
    "# Show the plot\n",
    "plt.show()"
   ]
  },
  {
   "cell_type": "markdown",
   "id": "b135b6ce",
   "metadata": {},
   "source": [
    "# Using Decision Tree"
   ]
  },
  {
   "cell_type": "code",
   "execution_count": 130,
   "id": "404440a4",
   "metadata": {},
   "outputs": [
    {
     "data": {
      "text/plain": [
       "DecisionTreeClassifier()"
      ]
     },
     "execution_count": 130,
     "metadata": {},
     "output_type": "execute_result"
    }
   ],
   "source": [
    "from sklearn.tree import DecisionTreeClassifier\n",
    "\n",
    "# Initialize and train the model\n",
    "model = DecisionTreeClassifier()\n",
    "model.fit(X_train, y_train)"
   ]
  },
  {
   "cell_type": "code",
   "execution_count": 131,
   "id": "298721d5",
   "metadata": {},
   "outputs": [],
   "source": [
    "# Make predictions on the test set\n",
    "y_pred = model.predict(X_test)"
   ]
  },
  {
   "cell_type": "code",
   "execution_count": 132,
   "id": "aee75f08",
   "metadata": {},
   "outputs": [
    {
     "name": "stdout",
     "output_type": "stream",
     "text": [
      "Accuracy: 0.7105263157894737\n"
     ]
    }
   ],
   "source": [
    "# Print the accuracy\n",
    "print(\"Accuracy:\", accuracy_score(y_test, y_pred))"
   ]
  },
  {
   "cell_type": "code",
   "execution_count": 133,
   "id": "b2aa380d",
   "metadata": {},
   "outputs": [
    {
     "data": {
      "image/png": "[encoded data removed]",
      "text/plain": [
       "<Figure size 432x288 with 2 Axes>"
      ]
     },
     "metadata": {
      "needs_background": "light"
     },
     "output_type": "display_data"
    }
   ],
   "source": [
    "from sklearn.metrics import confusion_matrix\n",
    "import seaborn as sns\n",
    "import matplotlib.pyplot as plt\n",
    "\n",
    "# Create a confusion matrix\n",
    "cm = confusion_matrix(y_test, y_pred)\n",
    "\n",
    "# Plot the confusion matrix using seaborn's heatmap function\n",
    "sns.heatmap(cm, annot=True, cmap='Blues', fmt='d')\n",
    "\n",
    "# Add labels and title\n",
    "plt.xlabel('Predicted')\n",
    "plt.ylabel('Actual')\n",
    "plt.title('Confusion Matrix')\n",
    "\n",
    "# Show the plot\n",
    "plt.show()"
   ]
  },
  {
   "cell_type": "markdown",
   "id": "42fb4fa4",
   "metadata": {},
   "source": [
    "# Using Random Forest"
   ]
  },
  {
   "cell_type": "code",
   "execution_count": 134,
   "id": "a0fae218",
   "metadata": {},
   "outputs": [
    {
     "data": {
      "text/plain": [
       "RandomForestClassifier()"
      ]
     },
     "execution_count": 134,
     "metadata": {},
     "output_type": "execute_result"
    }
   ],
   "source": [
    "from sklearn.ensemble import RandomForestClassifier\n",
    "\n",
    "# Initialize and train the model\n",
    "model = RandomForestClassifier()\n",
    "model.fit(X_train, y_train)"
   ]
  },
  {
   "cell_type": "code",
   "execution_count": 135,
   "id": "12d0bcfb",
   "metadata": {},
   "outputs": [],
   "source": [
    "# Make predictions on the test set\n",
    "y_pred = model.predict(X_test)"
   ]
  },
  {
   "cell_type": "code",
   "execution_count": 136,
   "id": "f5aebf8c",
   "metadata": {},
   "outputs": [
    {
     "name": "stdout",
     "output_type": "stream",
     "text": [
      "Accuracy: 0.868421052631579\n"
     ]
    }
   ],
   "source": [
    "# Print the accuracy\n",
    "print(\"Accuracy:\", accuracy_score(y_test, y_pred))"
   ]
  },
  {
   "cell_type": "code",
   "execution_count": 137,
   "id": "98a2c6bc",
   "metadata": {},
   "outputs": [
    {
     "data": {
      "image/png": "[encoded data removed]",
      "text/plain": [
       "<Figure size 432x288 with 2 Axes>"
      ]
     },
     "metadata": {
      "needs_background": "light"
     },
     "output_type": "display_data"
    }
   ],
   "source": [
    "from sklearn.metrics import confusion_matrix\n",
    "import seaborn as sns\n",
    "import matplotlib.pyplot as plt\n",
    "\n",
    "# Create a confusion matrix\n",
    "cm = confusion_matrix(y_test, y_pred)\n",
    "\n",
    "# Plot the confusion matrix using seaborn's heatmap function\n",
    "sns.heatmap(cm, annot=True, cmap='Blues', fmt='d')\n",
    "\n",
    "# Add labels and title\n",
    "plt.xlabel('Predicted')\n",
    "plt.ylabel('Actual')\n",
    "plt.title('Confusion Matrix')\n",
    "\n",
    "# Show the plot\n",
    "plt.show()"
   ]
  },
  {
   "cell_type": "markdown",
   "id": "dae7f1d0",
   "metadata": {},
   "source": [
    "# Using Support Vector Machines"
   ]
  },
  {
   "cell_type": "code",
   "execution_count": 138,
   "id": "bb14500c",
   "metadata": {},
   "outputs": [
    {
     "data": {
      "text/plain": [
       "SVC()"
      ]
     },
     "execution_count": 138,
     "metadata": {},
     "output_type": "execute_result"
    }
   ],
   "source": [
    "from sklearn import svm\n",
    "\n",
    "# Initialize and train the model\n",
    "model = svm.SVC()\n",
    "model.fit(X_train, y_train)"
   ]
  },
  {
   "cell_type": "code",
   "execution_count": 139,
   "id": "ba61c2d9",
   "metadata": {},
   "outputs": [],
   "source": [
    "# Make predictions on the test set\n",
    "y_pred = model.predict(X_test)"
   ]
  },
  {
   "cell_type": "code",
   "execution_count": 140,
   "id": "c6f4bb84",
   "metadata": {},
   "outputs": [
    {
     "name": "stdout",
     "output_type": "stream",
     "text": [
      "Accuracy: 0.6052631578947368\n"
     ]
    }
   ],
   "source": [
    "# Print the accuracy\n",
    "print(\"Accuracy:\", accuracy_score(y_test, y_pred))"
   ]
  },
  {
   "cell_type": "code",
   "execution_count": 141,
   "id": "58a2efaf",
   "metadata": {},
   "outputs": [
    {
     "data": {
      "image/png": "[encoded data removed]",
      "text/plain": [
       "<Figure size 432x288 with 2 Axes>"
      ]
     },
     "metadata": {
      "needs_background": "light"
     },
     "output_type": "display_data"
    }
   ],
   "source": [
    "from sklearn.metrics import confusion_matrix\n",
    "import seaborn as sns\n",
    "import matplotlib.pyplot as plt\n",
    "\n",
    "# Create a confusion matrix\n",
    "cm = confusion_matrix(y_test, y_pred)\n",
    "\n",
    "# Plot the confusion matrix using seaborn's heatmap function\n",
    "sns.heatmap(cm, annot=True, cmap='Blues', fmt='d')\n",
    "\n",
    "# Add labels and title\n",
    "plt.xlabel('Predicted')\n",
    "plt.ylabel('Actual')\n",
    "plt.title('Confusion Matrix')\n",
    "\n",
    "# Show the plot\n",
    "plt.show()"
   ]
  },
  {
   "cell_type": "markdown",
   "id": "967053b1",
   "metadata": {},
   "source": [
    "# Using Multi-layer Perceptron"
   ]
  },
  {
   "cell_type": "code",
   "execution_count": 177,
   "id": "cfbe99a1",
   "metadata": {},
   "outputs": [
    {
     "name": "stderr",
     "output_type": "stream",
     "text": [
      "C:\\Users\\Musham Malik\\AppData\\Local\\Programs\\Python\\Python39\\lib\\site-packages\\sklearn\\neural_network\\_multilayer_perceptron.py:692: ConvergenceWarning: Stochastic Optimizer: Maximum iterations (200) reached and the optimization hasn't converged yet.\n",
      "  warnings.warn(\n"
     ]
    },
    {
     "data": {
      "text/plain": [
       "MLPClassifier(hidden_layer_sizes=(150, 4))"
      ]
     },
     "execution_count": 177,
     "metadata": {},
     "output_type": "execute_result"
    }
   ],
   "source": [
    "from sklearn.neural_network import MLPClassifier\n",
    "\n",
    "# Initialize and train the model\n",
    "model = MLPClassifier(hidden_layer_sizes=(150,4))\n",
    "model.fit(X_train, y_train)"
   ]
  },
  {
   "cell_type": "code",
   "execution_count": 178,
   "id": "d29a7b04",
   "metadata": {},
   "outputs": [],
   "source": [
    "# Make predictions on the test set\n",
    "y_pred = model.predict(X_test)"
   ]
  },
  {
   "cell_type": "code",
   "execution_count": 179,
   "id": "810814d4",
   "metadata": {},
   "outputs": [
    {
     "name": "stdout",
     "output_type": "stream",
     "text": [
      "Accuracy: 0.47368421052631576\n"
     ]
    }
   ],
   "source": [
    "# Print the accuracy\n",
    "print(\"Accuracy:\", accuracy_score(y_test, y_pred))"
   ]
  },
  {
   "cell_type": "code",
   "execution_count": 180,
   "id": "86db1c0d",
   "metadata": {},
   "outputs": [
    {
     "data": {
      "image/png": "[encoded data removed]",
      "text/plain": [
       "<Figure size 432x288 with 2 Axes>"
      ]
     },
     "metadata": {
      "needs_background": "light"
     },
     "output_type": "display_data"
    }
   ],
   "source": [
    "from sklearn.metrics import confusion_matrix\n",
    "import seaborn as sns\n",
    "import matplotlib.pyplot as plt\n",
    "\n",
    "# Create a confusion matrix\n",
    "cm = confusion_matrix(y_test, y_pred)\n",
    "\n",
    "# Plot the confusion matrix using seaborn's heatmap function\n",
    "sns.heatmap(cm, annot=True, cmap='Blues', fmt='d')\n",
    "\n",
    "# Add labels and title\n",
    "plt.xlabel('Predicted')\n",
    "plt.ylabel('Actual')\n",
    "plt.title('Confusion Matrix')\n",
    "\n",
    "# Show the plot\n",
    "plt.show()"
   ]
  },
  {
   "cell_type": "markdown",
   "id": "3817636f",
   "metadata": {},
   "source": [
    "# Using K - Nearest Nieghbour"
   ]
  },
  {
   "cell_type": "markdown",
   "id": "9329ac45",
   "metadata": {},
   "source": [
    "Using Elbow Method to determine the best value of N for the KNN Algorithm"
   ]
  },
  {
   "cell_type": "code",
   "execution_count": 182,
   "id": "6f09fbdd",
   "metadata": {},
   "outputs": [
    {
     "data": {
      "image/png": "[encoded data removed]",
      "text/plain": [
       "<Figure size 432x288 with 1 Axes>"
      ]
     },
     "metadata": {
      "needs_background": "light"
     },
     "output_type": "display_data"
    }
   ],
   "source": [
    "from sklearn.neighbors import KNeighborsClassifier\n",
    "from sklearn.metrics import accuracy_score\n",
    "import matplotlib.pyplot as plt\n",
    "\n",
    "# Create a list of values for the number of neighbors\n",
    "neighbors = list(range(1, 30))\n",
    "\n",
    "# Create an empty list to store the accuracy scores\n",
    "accuracy = []\n",
    "\n",
    "# Loop over the number of neighbors\n",
    "for n in neighbors:\n",
    "    knn = KNeighborsClassifier(n_neighbors=n)\n",
    "    knn.fit(X_train, y_train)\n",
    "    y_pred = knn.predict(X_test)\n",
    "    accuracy.append(accuracy_score(y_test, y_pred))\n",
    "\n",
    "# Plot the relationship between the number of neighbors and the accuracy\n",
    "plt.plot(neighbors, accuracy)\n",
    "plt.xlabel('Number of neighbors')\n",
    "plt.ylabel('Accuracy')\n",
    "plt.show()"
   ]
  },
  {
   "cell_type": "code",
   "execution_count": 206,
   "id": "a01bd63a",
   "metadata": {},
   "outputs": [
    {
     "data": {
      "text/plain": [
       "KNeighborsClassifier(n_neighbors=2)"
      ]
     },
     "execution_count": 206,
     "metadata": {},
     "output_type": "execute_result"
    }
   ],
   "source": [
    "from sklearn.neighbors import KNeighborsClassifier\n",
    "\n",
    "# Create an instance of the KNeighborsClassifier class with the number of neighbors set to 5\n",
    "knn = KNeighborsClassifier(n_neighbors=2)\n",
    "# Fit the model to the training data\n",
    "knn.fit(X_train, y_train)"
   ]
  },
  {
   "cell_type": "code",
   "execution_count": 207,
   "id": "53322551",
   "metadata": {},
   "outputs": [],
   "source": [
    "# Make predictions on the test data\n",
    "y_pred = knn.predict(X_test)"
   ]
  },
  {
   "cell_type": "code",
   "execution_count": 208,
   "id": "c402117f",
   "metadata": {},
   "outputs": [
    {
     "name": "stdout",
     "output_type": "stream",
     "text": [
      "Accuracy: 0.868421052631579\n"
     ]
    }
   ],
   "source": [
    "# Print the accuracy\n",
    "print(\"Accuracy:\", accuracy_score(y_test, y_pred))"
   ]
  },
  {
   "cell_type": "code",
   "execution_count": 209,
   "id": "7f5b987e",
   "metadata": {},
   "outputs": [
    {
     "data": {
      "image/png": "[encoded data removed]",
      "text/plain": [
       "<Figure size 432x288 with 2 Axes>"
      ]
     },
     "metadata": {
      "needs_background": "light"
     },
     "output_type": "display_data"
    }
   ],
   "source": [
    "from sklearn.metrics import confusion_matrix\n",
    "import seaborn as sns\n",
    "import matplotlib.pyplot as plt\n",
    "\n",
    "# Create a confusion matrix\n",
    "cm = confusion_matrix(y_test, y_pred)\n",
    "\n",
    "# Plot the confusion matrix using seaborn's heatmap function\n",
    "sns.heatmap(cm, annot=True, cmap='Blues', fmt='d')\n",
    "\n",
    "# Add labels and title\n",
    "plt.xlabel('Predicted')\n",
    "plt.ylabel('Actual')\n",
    "plt.title('Confusion Matrix')\n",
    "\n",
    "# Show the plot\n",
    "plt.show()"
   ]
  },
  {
   "cell_type": "code",
   "execution_count": null,
   "id": "93747ffe",
   "metadata": {},
   "outputs": [],
   "source": []
  }
 ],
 "metadata": {
  "kernelspec": {
   "display_name": "Python 3 (ipykernel)",
   "language": "python",
   "name": "python3"
  },
  "language_info": {
   "codemirror_mode": {
    "name": "ipython",
    "version": 3
   },
   "file_extension": ".py",
   "mimetype": "text/x-python",
   "name": "python",
   "nbconvert_exporter": "python",
   "pygments_lexer": "ipython3",
   "version": "3.9.7"
  }
 },
 "nbformat": 4,
 "nbformat_minor": 5
}
